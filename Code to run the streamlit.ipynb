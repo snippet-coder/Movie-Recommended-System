{
 "cells": [
  {
   "cell_type": "code",
   "execution_count": 1,
   "id": "10312bf8",
   "metadata": {},
   "outputs": [],
   "source": [
    "import streamlit as st"
   ]
  },
  {
   "cell_type": "code",
   "execution_count": 5,
   "id": "5824a238",
   "metadata": {},
   "outputs": [
    {
     "name": "stderr",
     "output_type": "stream",
     "text": [
      "'npm' is not recognized as an internal or external command,\n",
      "operable program or batch file.\n",
      "'npx' is not recognized as an internal or external command,\n",
      "operable program or batch file.\n"
     ]
    }
   ],
   "source": [
    "!npm install -g localtunnel\n",
    "\n",
    "# Step 2: Run streamlit in background\n",
    "import threading\n",
    "import os\n",
    "\n",
    "def run_streamlit():\n",
    "    os.system('streamlit run Model.py')  # Replace with your actual .py script\n",
    "\n",
    "thread = threading.Thread(target=run_streamlit)\n",
    "thread.start()\n",
    "\n",
    "# Step 3: Start localtunnel to expose port 8501\n",
    "!npx localtunnel --port 8501"
   ]
  },
  {
   "cell_type": "code",
   "execution_count": 3,
   "id": "5c77bbc3",
   "metadata": {},
   "outputs": [
    {
     "name": "stdout",
     "output_type": "stream",
     "text": [
      "149.40.62.40\n"
     ]
    }
   ],
   "source": [
    "import requests\n",
    "ip = requests.get('https://ipv4.icanhazip.com').text.strip()\n",
    "print(ip)\n"
   ]
  },
  {
   "cell_type": "code",
   "execution_count": null,
   "id": "b58dc707",
   "metadata": {},
   "outputs": [],
   "source": [
    "! streamlit run Model.py & npx localtunnel --port 8501"
   ]
  },
  {
   "cell_type": "code",
   "execution_count": null,
   "id": "4937b8c4",
   "metadata": {},
   "outputs": [],
   "source": []
  }
 ],
 "metadata": {
  "kernelspec": {
   "display_name": "Python 3 (ipykernel)",
   "language": "python",
   "name": "python3"
  },
  "language_info": {
   "codemirror_mode": {
    "name": "ipython",
    "version": 3
   },
   "file_extension": ".py",
   "mimetype": "text/x-python",
   "name": "python",
   "nbconvert_exporter": "python",
   "pygments_lexer": "ipython3",
   "version": "3.10.9"
  }
 },
 "nbformat": 4,
 "nbformat_minor": 5
}
